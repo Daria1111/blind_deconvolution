{
  "nbformat": 4,
  "nbformat_minor": 0,
  "metadata": {
    "colab": {
      "name": "admmSingleMulti.ipynb",
      "provenance": [],
      "collapsed_sections": [],
      "machine_shape": "hm"
    },
    "kernelspec": {
      "name": "python3",
      "display_name": "Python 3"
    },
    "accelerator": "GPU"
  },
  "cells": [
    {
      "cell_type": "code",
      "metadata": {
        "id": "J91d8LMm7iV0",
        "colab_type": "code",
        "colab": {}
      },
      "source": [
        "from google.colab import files\n",
        "import matplotlib.pyplot as plt\n",
        "from scipy.linalg import circulant\n",
        "import numpy as np\n",
        "import time\n",
        "#from mnist import load_dataset\n",
        "\n",
        "from google.colab import drive\n",
        "\n",
        "import imageio"
      ],
      "execution_count": 0,
      "outputs": []
    },
    {
      "cell_type": "code",
      "metadata": {
        "id": "TKPbU-S1Mgvs",
        "colab_type": "code",
        "outputId": "50405cd1-efa8-4ebe-fb50-1a8056dd7185",
        "colab": {
          "base_uri": "https://localhost:8080/",
          "height": 212
        }
      },
      "source": [
        "\n",
        "!wget https://raw.githubusercontent.com/yandexdataschool/Practical_DL/35c067adcc1ab364c8803830cdb34d0d50eea37e/week01_backprop/mnist.py -O mnist.py"
      ],
      "execution_count": 2,
      "outputs": [
        {
          "output_type": "stream",
          "text": [
            "--2020-04-01 23:13:41--  https://raw.githubusercontent.com/yandexdataschool/Practical_DL/35c067adcc1ab364c8803830cdb34d0d50eea37e/week01_backprop/mnist.py\n",
            "Resolving raw.githubusercontent.com (raw.githubusercontent.com)... 151.101.0.133, 151.101.64.133, 151.101.128.133, ...\n",
            "Connecting to raw.githubusercontent.com (raw.githubusercontent.com)|151.101.0.133|:443... connected.\n",
            "HTTP request sent, awaiting response... 200 OK\n",
            "Length: 2697 (2.6K) [text/plain]\n",
            "Saving to: ‘mnist.py’\n",
            "\n",
            "\rmnist.py              0%[                    ]       0  --.-KB/s               \rmnist.py            100%[===================>]   2.63K  --.-KB/s    in 0s      \n",
            "\n",
            "2020-04-01 23:13:41 (36.9 MB/s) - ‘mnist.py’ saved [2697/2697]\n",
            "\n"
          ],
          "name": "stdout"
        }
      ]
    },
    {
      "cell_type": "code",
      "metadata": {
        "id": "vn6cuwv5MsHy",
        "colab_type": "code",
        "colab": {}
      },
      "source": [
        "import mnist"
      ],
      "execution_count": 0,
      "outputs": []
    },
    {
      "cell_type": "code",
      "metadata": {
        "id": "lay4x8ynMvQh",
        "colab_type": "code",
        "outputId": "cddf9681-dab2-4969-e97f-b386630b80d4",
        "colab": {
          "base_uri": "https://localhost:8080/",
          "height": 88
        }
      },
      "source": [
        "X_train, y_train, X_val, y_val, X_test, y_test = mnist.load_dataset(flatten=True)"
      ],
      "execution_count": 4,
      "outputs": [
        {
          "output_type": "stream",
          "text": [
            "Downloading train-images-idx3-ubyte.gz\n",
            "Downloading train-labels-idx1-ubyte.gz\n",
            "Downloading t10k-images-idx3-ubyte.gz\n",
            "Downloading t10k-labels-idx1-ubyte.gz\n"
          ],
          "name": "stdout"
        }
      ]
    },
    {
      "cell_type": "code",
      "metadata": {
        "id": "_GlC-jt3NQwC",
        "colab_type": "code",
        "outputId": "2ed15659-1184-414c-c80c-2f9a49acd8d8",
        "colab": {
          "base_uri": "https://localhost:8080/",
          "height": 390
        }
      },
      "source": [
        "plt.figure(figsize=[6,6])\n",
        "for i in range(4):\n",
        "    plt.subplot(2,2,i+1)\n",
        "    plt.title(\"Label: %i\"%y_train[i])\n",
        "    plt.imshow(X_train[i].reshape([28,28]),cmap='gray');\n",
        "    "
      ],
      "execution_count": 5,
      "outputs": [
        {
          "output_type": "display_data",
          "data": {
            "image/png": "[encoded data removed]",
            "text/plain": [
              "<Figure size 432x432 with 4 Axes>"
            ]
          },
          "metadata": {
            "tags": []
          }
        }
      ]
    },
    {
      "cell_type": "code",
      "metadata": {
        "id": "vmDS1FUqFjeh",
        "colab_type": "code",
        "outputId": "ee186264-7bb1-4548-ddbf-91c17b363a2e",
        "colab": {
          "base_uri": "https://localhost:8080/",
          "height": 283
        }
      },
      "source": [
        "pic1 = X_train[0].reshape([28,28])\n",
        "plt.imshow(pic1, 'gray')"
      ],
      "execution_count": 6,
      "outputs": [
        {
          "output_type": "execute_result",
          "data": {
            "text/plain": [
              "<matplotlib.image.AxesImage at 0x7f9d81b65be0>"
            ]
          },
          "metadata": {
            "tags": []
          },
          "execution_count": 6
        },
        {
          "output_type": "display_data",
          "data": {
            "image/png": "[encoded data removed]",
            "text/plain": [
              "<Figure size 432x288 with 1 Axes>"
            ]
          },
          "metadata": {
            "tags": []
          }
        }
      ]
    },
    {
      "cell_type": "code",
      "metadata": {
        "id": "FKU9HJIm7s5O",
        "colab_type": "code",
        "outputId": "9c22c636-3efe-43b5-cb8a-400d43021352",
        "colab": {
          "base_uri": "https://localhost:8080/",
          "height": 283
        }
      },
      "source": [
        "pic1 = np.zeros((10,10))\n",
        "pic1[2:7,3:9] = 1\n",
        "\n",
        "pic1[5:7, 3:9] = 0.5\n",
        "plt.imshow(pic1,'gray')"
      ],
      "execution_count": 0,
      "outputs": [
        {
          "output_type": "execute_result",
          "data": {
            "text/plain": [
              "<matplotlib.image.AxesImage at 0x7f5502d839b0>"
            ]
          },
          "metadata": {
            "tags": []
          },
          "execution_count": 2
        },
        {
          "output_type": "display_data",
          "data": {
            "image/png": "[encoded data removed]",
            "text/plain": [
              "<Figure size 432x288 with 1 Axes>"
            ]
          },
          "metadata": {
            "tags": []
          }
        }
      ]
    },
    {
      "cell_type": "code",
      "metadata": {
        "id": "xfJswIsz7wRS",
        "colab_type": "code",
        "colab": {}
      },
      "source": [
        "K = 100\n",
        "L = 784\n",
        "N = 784"
      ],
      "execution_count": 0,
      "outputs": []
    },
    {
      "cell_type": "code",
      "metadata": {
        "id": "S95ICQBh9v2r",
        "colab_type": "code",
        "colab": {}
      },
      "source": [
        "\n",
        "m1 = pic1.reshape((N,1))"
      ],
      "execution_count": 0,
      "outputs": []
    },
    {
      "cell_type": "code",
      "metadata": {
        "id": "5c_Wp9Q89yEe",
        "colab_type": "code",
        "colab": {}
      },
      "source": [
        "C = np.random.randn(L,N)\n",
        "\n",
        "\n",
        "h1 = np.random.randn(K,1)\n",
        "h2 = np.random.randn(K,1)\n",
        "\n",
        "B = np.random.randn(L,K)"
      ],
      "execution_count": 0,
      "outputs": []
    },
    {
      "cell_type": "code",
      "metadata": {
        "id": "BncTx2j890jD",
        "colab_type": "code",
        "colab": {
          "base_uri": "https://localhost:8080/",
          "height": 399
        },
        "outputId": "3e6a12f8-dcb8-42fe-a6ea-1cbf8f912246"
      },
      "source": [
        "A = circulant(C[:,0]) @ B\n",
        "for iter in range(1,N):\n",
        "    elem = circulant(C[:,iter]) @ B\n",
        "    A = np.hstack((A,elem))"
      ],
      "execution_count": 32,
      "outputs": [
        {
          "output_type": "error",
          "ename": "KeyboardInterrupt",
          "evalue": "ignored",
          "traceback": [
            "\u001b[0;31m---------------------------------------------------------------------------\u001b[0m",
            "\u001b[0;31mKeyboardInterrupt\u001b[0m                         Traceback (most recent call last)",
            "\u001b[0;32m<ipython-input-32-40fe7892a327>\u001b[0m in \u001b[0;36m<module>\u001b[0;34m()\u001b[0m\n\u001b[1;32m      2\u001b[0m \u001b[0;32mfor\u001b[0m \u001b[0miter\u001b[0m \u001b[0;32min\u001b[0m \u001b[0mrange\u001b[0m\u001b[0;34m(\u001b[0m\u001b[0;36m1\u001b[0m\u001b[0;34m,\u001b[0m\u001b[0mN\u001b[0m\u001b[0;34m)\u001b[0m\u001b[0;34m:\u001b[0m\u001b[0;34m\u001b[0m\u001b[0;34m\u001b[0m\u001b[0m\n\u001b[1;32m      3\u001b[0m     \u001b[0melem\u001b[0m \u001b[0;34m=\u001b[0m \u001b[0mcirculant\u001b[0m\u001b[0;34m(\u001b[0m\u001b[0mC\u001b[0m\u001b[0;34m[\u001b[0m\u001b[0;34m:\u001b[0m\u001b[0;34m,\u001b[0m\u001b[0miter\u001b[0m\u001b[0;34m]\u001b[0m\u001b[0;34m)\u001b[0m \u001b[0;34m@\u001b[0m \u001b[0mB\u001b[0m\u001b[0;34m\u001b[0m\u001b[0;34m\u001b[0m\u001b[0m\n\u001b[0;32m----> 4\u001b[0;31m     \u001b[0mA\u001b[0m \u001b[0;34m=\u001b[0m \u001b[0mnp\u001b[0m\u001b[0;34m.\u001b[0m\u001b[0mhstack\u001b[0m\u001b[0;34m(\u001b[0m\u001b[0;34m(\u001b[0m\u001b[0mA\u001b[0m\u001b[0;34m,\u001b[0m\u001b[0melem\u001b[0m\u001b[0;34m)\u001b[0m\u001b[0;34m)\u001b[0m\u001b[0;34m\u001b[0m\u001b[0;34m\u001b[0m\u001b[0m\n\u001b[0m",
            "\u001b[0;32m<__array_function__ internals>\u001b[0m in \u001b[0;36mhstack\u001b[0;34m(*args, **kwargs)\u001b[0m\n",
            "\u001b[0;32m/usr/local/lib/python3.6/dist-packages/numpy/core/shape_base.py\u001b[0m in \u001b[0;36mhstack\u001b[0;34m(tup)\u001b[0m\n\u001b[1;32m    343\u001b[0m         \u001b[0;32mreturn\u001b[0m \u001b[0m_nx\u001b[0m\u001b[0;34m.\u001b[0m\u001b[0mconcatenate\u001b[0m\u001b[0;34m(\u001b[0m\u001b[0marrs\u001b[0m\u001b[0;34m,\u001b[0m \u001b[0;36m0\u001b[0m\u001b[0;34m)\u001b[0m\u001b[0;34m\u001b[0m\u001b[0;34m\u001b[0m\u001b[0m\n\u001b[1;32m    344\u001b[0m     \u001b[0;32melse\u001b[0m\u001b[0;34m:\u001b[0m\u001b[0;34m\u001b[0m\u001b[0;34m\u001b[0m\u001b[0m\n\u001b[0;32m--> 345\u001b[0;31m         \u001b[0;32mreturn\u001b[0m \u001b[0m_nx\u001b[0m\u001b[0;34m.\u001b[0m\u001b[0mconcatenate\u001b[0m\u001b[0;34m(\u001b[0m\u001b[0marrs\u001b[0m\u001b[0;34m,\u001b[0m \u001b[0;36m1\u001b[0m\u001b[0;34m)\u001b[0m\u001b[0;34m\u001b[0m\u001b[0;34m\u001b[0m\u001b[0m\n\u001b[0m\u001b[1;32m    346\u001b[0m \u001b[0;34m\u001b[0m\u001b[0m\n\u001b[1;32m    347\u001b[0m \u001b[0;34m\u001b[0m\u001b[0m\n",
            "\u001b[0;32m<__array_function__ internals>\u001b[0m in \u001b[0;36mconcatenate\u001b[0;34m(*args, **kwargs)\u001b[0m\n",
            "\u001b[0;31mKeyboardInterrupt\u001b[0m: "
          ]
        }
      ]
    },
    {
      "cell_type": "code",
      "metadata": {
        "id": "gMhNOCix93DO",
        "colab_type": "code",
        "colab": {}
      },
      "source": [
        "X1 = h1 @ m1.reshape((1,N))\n",
        "X2 = h2 @ m1.reshape((1,N))\n",
        "\n",
        "X = np.vstack((X1,X2))"
      ],
      "execution_count": 0,
      "outputs": []
    },
    {
      "cell_type": "code",
      "metadata": {
        "id": "4qMQSfJfDlg5",
        "colab_type": "code",
        "colab": {}
      },
      "source": [
        "a, b = A.shape\n",
        "A0 = np.zeros((a,b))\n",
        "A1 = np.hstack((A,A0))\n",
        "A2 = np.hstack((A0,A))\n",
        "A = np.vstack((A1,A2))"
      ],
      "execution_count": 0,
      "outputs": []
    },
    {
      "cell_type": "code",
      "metadata": {
        "id": "q4rjrddCDpgV",
        "colab_type": "code",
        "colab": {}
      },
      "source": [
        "y =  A @ X.reshape((2*N*K,1))"
      ],
      "execution_count": 0,
      "outputs": []
    },
    {
      "cell_type": "code",
      "metadata": {
        "id": "xWkNVTxeN-ld",
        "colab_type": "code",
        "outputId": "403b5bce-1f3f-422e-8b05-54eac3730e0f",
        "colab": {
          "base_uri": "https://localhost:8080/",
          "height": 283
        }
      },
      "source": [
        "plt.imshow(y[:169,:].reshape((13,13)),'gray')"
      ],
      "execution_count": 14,
      "outputs": [
        {
          "output_type": "execute_result",
          "data": {
            "text/plain": [
              "<matplotlib.image.AxesImage at 0x7f9d7e2cf9b0>"
            ]
          },
          "metadata": {
            "tags": []
          },
          "execution_count": 14
        },
        {
          "output_type": "display_data",
          "data": {
            "image/png": "[encoded data removed]",
            "text/plain": [
              "<Figure size 432x288 with 1 Axes>"
            ]
          },
          "metadata": {
            "tags": []
          }
        }
      ]
    },
    {
      "cell_type": "code",
      "metadata": {
        "id": "jYJMk0OdOnFy",
        "colab_type": "code",
        "outputId": "f5258326-9a42-4c98-eee7-91dff253ec3b",
        "colab": {
          "base_uri": "https://localhost:8080/",
          "height": 168
        }
      },
      "source": [
        "plt.imshow(y[169:,:].reshape((13,13)),'gray')"
      ],
      "execution_count": 0,
      "outputs": [
        {
          "output_type": "error",
          "ename": "ValueError",
          "evalue": "ignored",
          "traceback": [
            "\u001b[0;31m---------------------------------------------------------------------------\u001b[0m",
            "\u001b[0;31mValueError\u001b[0m                                Traceback (most recent call last)",
            "\u001b[0;32m<ipython-input-15-3055c1c13798>\u001b[0m in \u001b[0;36m<module>\u001b[0;34m()\u001b[0m\n\u001b[0;32m----> 1\u001b[0;31m \u001b[0mplt\u001b[0m\u001b[0;34m.\u001b[0m\u001b[0mimshow\u001b[0m\u001b[0;34m(\u001b[0m\u001b[0my\u001b[0m\u001b[0;34m[\u001b[0m\u001b[0;36m169\u001b[0m\u001b[0;34m:\u001b[0m\u001b[0;34m,\u001b[0m\u001b[0;34m:\u001b[0m\u001b[0;34m]\u001b[0m\u001b[0;34m.\u001b[0m\u001b[0mreshape\u001b[0m\u001b[0;34m(\u001b[0m\u001b[0;34m(\u001b[0m\u001b[0;36m13\u001b[0m\u001b[0;34m,\u001b[0m\u001b[0;36m13\u001b[0m\u001b[0;34m)\u001b[0m\u001b[0;34m)\u001b[0m\u001b[0;34m,\u001b[0m\u001b[0;34m'gray'\u001b[0m\u001b[0;34m)\u001b[0m\u001b[0;34m\u001b[0m\u001b[0;34m\u001b[0m\u001b[0m\n\u001b[0m",
            "\u001b[0;31mValueError\u001b[0m: cannot reshape array of size 1399 into shape (13,13)"
          ]
        }
      ]
    },
    {
      "cell_type": "code",
      "metadata": {
        "id": "cZw8SaYWDsHZ",
        "colab_type": "code",
        "colab": {}
      },
      "source": [
        "\n",
        "def prox_nuclear(A, lambd):\n",
        "    U, S, Vh = np.linalg.svd(A)\n",
        "    svp = np.sum(S > lambd)\n",
        "    if svp >= 1:\n",
        "        S = S[:svp] - lambd\n",
        "        X = U[:,:svp] @ np.diag(S) @ Vh[:svp]\n",
        "        nucnorm = np.sum(S)\n",
        "    else:\n",
        "        X = np.zeros(A.shape)\n",
        "        nucnorm = 0\n",
        "    return X, nucnorm"
      ],
      "execution_count": 0,
      "outputs": []
    },
    {
      "cell_type": "code",
      "metadata": {
        "id": "v_ae2fsWDu6I",
        "colab_type": "code",
        "colab": {}
      },
      "source": [
        "def prox_l21(A,lambd):\n",
        "    X = np.zeros(A.shape)\n",
        "    for i in range(X.shape[1]):\n",
        "        nxi = np.linalg.norm(A[:,i])\n",
        "        if nxi > lambd:\n",
        "            X[:,i] = (1 - lambd/nxi) * A[:,i]\n",
        "    return X\n",
        "    \n",
        "    "
      ],
      "execution_count": 0,
      "outputs": []
    },
    {
      "cell_type": "code",
      "metadata": {
        "id": "QKV1GiuQDyfb",
        "colab_type": "code",
        "colab": {}
      },
      "source": [
        "\n",
        "def lrr(y, A, lambd):\n",
        "    tol = 1e-6\n",
        "    max_iter = 500\n",
        "    ro = 1.1\n",
        "    mu = 1e-4\n",
        "    max_mu = 1e10\n",
        "\n",
        "    d, na = y.shape\n",
        "    _, nb = A.shape\n",
        "    #X = np.zeros((nb, na))\n",
        "    X = np.zeros((2*K,N))\n",
        "    E = np.zeros((d, na))\n",
        "    J = X\n",
        "\n",
        "    Y1 = E\n",
        "    Y2 = X\n",
        "    AtA = A.T @ A\n",
        "    Aty = A.T @ y\n",
        "    I = np.eye(nb)\n",
        "    invAtAI = np.linalg.inv(AtA + I)\n",
        "\n",
        "    errs = []\n",
        "    times = []\n",
        "    start = time.time()\n",
        "\n",
        "    for iter in range(max_iter):\n",
        "      \n",
        "\n",
        "        J, nuclearnormJ = prox_nuclear(X+Y2/mu, 1/mu)\n",
        "        E = prox_l21(y - A @ X.reshape((2*K*N,1)) + Y1/mu, lambd/mu)\n",
        "\n",
        "        X = (invAtAI @ ((A.T @ (Y1/mu -E) + Aty).reshape((2*K,N)) - Y2/mu + J).reshape((2*K*N,1))).reshape((2*K,N))\n",
        "        dY1 = y - A @ X.reshape((2*K*N,1)) - E\n",
        "        dY2 = X - J\n",
        "\n",
        "        Y1 += mu * dY1\n",
        "        Y2 += mu * dY2\n",
        "        mu = min(ro*mu, max_mu)\n",
        "        times.append(time.time() - start)\n",
        "       \n",
        "        metric = np.linalg.norm(y - A @ X.reshape((2*K*N,1)))\n",
        "        print(metric)\n",
        "        errs.append(metric)\n",
        "        if metric < tol:\n",
        "            break\n",
        "    return J, E, errs, iter, times"
      ],
      "execution_count": 0,
      "outputs": []
    },
    {
      "cell_type": "code",
      "metadata": {
        "id": "JNRZW2oMEOB-",
        "colab_type": "code",
        "outputId": "db5cc788-0847-45bb-9fb7-7fbe7295156f",
        "colab": {
          "base_uri": "https://localhost:8080/",
          "height": 1000
        }
      },
      "source": [
        "Xk, E, errs, iters, times = lrr(y, A, 100)"
      ],
      "execution_count": 18,
      "outputs": [
        {
          "output_type": "stream",
          "text": [
            "0.005720094891771966\n",
            "0.00572629026647902\n",
            "0.005720160460676527\n",
            "0.005722256137943627\n",
            "0.00572099925832095\n",
            "0.005725513660525187\n",
            "0.00572094052981204\n",
            "0.005724942322096647\n",
            "0.005721671593603808\n",
            "0.005720954202969873\n",
            "0.005726196334197406\n",
            "0.005721378259580178\n",
            "0.005724349029455254\n",
            "0.005721486961411533\n",
            "0.0057193692603599924\n",
            "0.005725756165054242\n",
            "0.005721854507554043\n",
            "0.005724084296872354\n",
            "0.005724643122661405\n",
            "0.0057208715997956365\n",
            "0.005723694590356307\n",
            "0.005719156600550071\n",
            "0.005722899868127908\n",
            "0.005722958209188449\n",
            "0.005722416803960782\n",
            "0.005722671677286082\n",
            "0.005722188687161494\n",
            "0.005724723507473105\n",
            "0.005722560478719588\n",
            "0.005726677542711193\n",
            "0.005720168285566838\n",
            "0.005719929796857258\n",
            "0.0057273592718459845\n",
            "0.005718964893405417\n",
            "0.005720014443794955\n",
            "0.005724179041896127\n",
            "0.005724795691699624\n",
            "0.005723537855935222\n",
            "0.005722655422698301\n",
            "0.005720101338579302\n",
            "0.005721939895279871\n",
            "0.005721420898937734\n",
            "0.00572298514226183\n",
            "0.005725443425486086\n",
            "0.005721913009696547\n",
            "0.005724183799713798\n",
            "0.005720229008186132\n",
            "0.005719990298654664\n",
            "0.005725499896657379\n",
            "0.005723814310927333\n",
            "0.005723737773669642\n",
            "0.005723133789663423\n",
            "0.005720299883182074\n",
            "0.005723012994834453\n",
            "0.0057208735928821605\n",
            "0.005616879668628617\n",
            "0.0047548132078340495\n",
            "0.003591418589761974\n",
            "0.0026080060131232112\n",
            "0.002206279503345935\n",
            "0.0022474984393494168\n",
            "0.0023306854954107782\n",
            "0.0022478964741472185\n",
            "0.0020048765739260257\n",
            "0.0016751174632183407\n",
            "0.0013481419457410917\n",
            "0.0010976144886132248\n",
            "0.000959071902311568\n",
            "0.0009001620221786862\n",
            "0.000871570073067523\n",
            "0.0008480203308200367\n",
            "0.0007943769143602898\n",
            "0.0007326686001650455\n",
            "0.000637518465930509\n",
            "0.0005295060033077492\n",
            "0.00046228209164275735\n",
            "0.0004203429123424632\n",
            "0.00038472303571321457\n",
            "0.00034489154833397366\n",
            "0.0003062222911806603\n",
            "0.00026724633893936795\n",
            "0.00023714682198199702\n",
            "0.00021151504040304317\n",
            "0.00018696946470179746\n",
            "0.00016671749394110878\n",
            "0.0001512901185320206\n",
            "0.00013841839820404378\n",
            "0.00012717002648364965\n",
            "0.00011396444043821384\n",
            "0.00010354657279361935\n",
            "9.55392710555653e-05\n"
          ],
          "name": "stdout"
        }
      ]
    },
    {
      "cell_type": "code",
      "metadata": {
        "id": "7VUcXcMwEQmo",
        "colab_type": "code",
        "colab": {}
      },
      "source": [
        "u, s, v = np.linalg.svd(Xk)"
      ],
      "execution_count": 0,
      "outputs": []
    },
    {
      "cell_type": "code",
      "metadata": {
        "id": "w0bp5EmTEUdy",
        "colab_type": "code",
        "outputId": "e4cd72a0-0754-4274-afeb-698492b3917c",
        "colab": {
          "base_uri": "https://localhost:8080/",
          "height": 106
        }
      },
      "source": [
        "s"
      ],
      "execution_count": 20,
      "outputs": [
        {
          "output_type": "execute_result",
          "data": {
            "text/plain": [
              "array([3.76055298e+01, 8.86237560e-01, 6.85256111e-01, 5.23375409e-01,\n",
              "       4.04814788e-01, 3.05958145e-01, 2.79386407e-01, 2.05559708e-01,\n",
              "       8.44933996e-02, 3.16177840e-02, 4.43726475e-03, 1.09884482e-14,\n",
              "       3.40507252e-15, 1.78614276e-15, 1.51950260e-15, 1.21353637e-15,\n",
              "       1.00421928e-15, 8.76576706e-16, 8.31586417e-16, 3.80355121e-16])"
            ]
          },
          "metadata": {
            "tags": []
          },
          "execution_count": 20
        }
      ]
    },
    {
      "cell_type": "code",
      "metadata": {
        "id": "YuncU3HvEV5l",
        "colab_type": "code",
        "outputId": "42383d9d-e031-4b1a-85f1-e8f3673c5043",
        "colab": {
          "base_uri": "https://localhost:8080/",
          "height": 283
        }
      },
      "source": [
        "\n",
        "im1 = (v[0,:784]).reshape((28,28))\n",
        "plt.imshow(im1,'gray')"
      ],
      "execution_count": 22,
      "outputs": [
        {
          "output_type": "execute_result",
          "data": {
            "text/plain": [
              "<matplotlib.image.AxesImage at 0x7f9d7e21c8d0>"
            ]
          },
          "metadata": {
            "tags": []
          },
          "execution_count": 22
        },
        {
          "output_type": "display_data",
          "data": {
            "image/png": "[encoded data removed]",
            "text/plain": [
              "<Figure size 432x288 with 1 Axes>"
            ]
          },
          "metadata": {
            "tags": []
          }
        }
      ]
    },
    {
      "cell_type": "code",
      "metadata": {
        "id": "FaccgnXbEZ4m",
        "colab_type": "code",
        "outputId": "1bc938dc-9c20-4fa9-abee-fcf08af5ce12",
        "colab": {
          "base_uri": "https://localhost:8080/",
          "height": 287
        }
      },
      "source": [
        "\n",
        "plt.plot(np.vstack((h1,h2)))"
      ],
      "execution_count": 23,
      "outputs": [
        {
          "output_type": "execute_result",
          "data": {
            "text/plain": [
              "[<matplotlib.lines.Line2D at 0x7f9d7e274588>]"
            ]
          },
          "metadata": {
            "tags": []
          },
          "execution_count": 23
        },
        {
          "output_type": "display_data",
          "data": {
            "image/png": "[encoded data removed]",
            "text/plain": [
              "<Figure size 432x288 with 1 Axes>"
            ]
          },
          "metadata": {
            "tags": []
          }
        }
      ]
    },
    {
      "cell_type": "code",
      "metadata": {
        "id": "f5i0Jnv1EmRH",
        "colab_type": "code",
        "outputId": "0087fb1e-0711-4066-a52c-b6aa33c57a45",
        "colab": {
          "base_uri": "https://localhost:8080/",
          "height": 283
        }
      },
      "source": [
        "plt.plot(u[:,0])"
      ],
      "execution_count": 25,
      "outputs": [
        {
          "output_type": "execute_result",
          "data": {
            "text/plain": [
              "[<matplotlib.lines.Line2D at 0x7f9d7e1f2550>]"
            ]
          },
          "metadata": {
            "tags": []
          },
          "execution_count": 25
        },
        {
          "output_type": "display_data",
          "data": {
            "image/png": "[encoded data removed]",
            "text/plain": [
              "<Figure size 432x288 with 1 Axes>"
            ]
          },
          "metadata": {
            "tags": []
          }
        }
      ]
    },
    {
      "cell_type": "code",
      "metadata": {
        "id": "2re0HCW_qrqB",
        "colab_type": "code",
        "colab": {
          "base_uri": "https://localhost:8080/",
          "height": 1000
        },
        "outputId": "bb4e4ddb-1e48-46ac-904e-323f08f79223"
      },
      "source": [
        "times"
      ],
      "execution_count": 27,
      "outputs": [
        {
          "output_type": "execute_result",
          "data": {
            "text/plain": [
              "[0.13135886192321777,\n",
              " 0.2587592601776123,\n",
              " 0.3809671401977539,\n",
              " 0.5017087459564209,\n",
              " 0.6373374462127686,\n",
              " 0.759427547454834,\n",
              " 0.8825857639312744,\n",
              " 1.0033340454101562,\n",
              " 1.1284773349761963,\n",
              " 1.2505114078521729,\n",
              " 1.3724229335784912,\n",
              " 1.4927351474761963,\n",
              " 1.6212832927703857,\n",
              " 1.7511711120605469,\n",
              " 1.8738036155700684,\n",
              " 1.9954776763916016,\n",
              " 2.119680643081665,\n",
              " 2.2413511276245117,\n",
              " 2.3645029067993164,\n",
              " 2.4848713874816895,\n",
              " 2.6098694801330566,\n",
              " 2.7354605197906494,\n",
              " 2.858161687850952,\n",
              " 2.9795451164245605,\n",
              " 3.1033973693847656,\n",
              " 3.2245655059814453,\n",
              " 3.347647190093994,\n",
              " 3.4679770469665527,\n",
              " 3.5910420417785645,\n",
              " 3.7237608432769775,\n",
              " 3.847170829772949,\n",
              " 3.969590902328491,\n",
              " 4.096637487411499,\n",
              " 4.222952127456665,\n",
              " 4.346822500228882,\n",
              " 4.466139793395996,\n",
              " 4.586859703063965,\n",
              " 4.714367151260376,\n",
              " 4.841886520385742,\n",
              " 4.963181018829346,\n",
              " 5.085761785507202,\n",
              " 5.210058212280273,\n",
              " 5.333614349365234,\n",
              " 5.454766511917114,\n",
              " 5.576072454452515,\n",
              " 5.700892448425293,\n",
              " 5.827494859695435,\n",
              " 5.947657585144043,\n",
              " 6.071089506149292,\n",
              " 6.192710638046265,\n",
              " 6.3174357414245605,\n",
              " 6.4387733936309814,\n",
              " 6.563896894454956,\n",
              " 6.683642864227295,\n",
              " 6.815327405929565,\n",
              " 6.936758041381836,\n",
              " 7.059527635574341,\n",
              " 7.181820392608643,\n",
              " 7.3053669929504395,\n",
              " 7.426422119140625,\n",
              " 7.548786878585815,\n",
              " 7.666705846786499,\n",
              " 7.78957724571228,\n",
              " 7.91560435295105,\n",
              " 8.036769390106201,\n",
              " 8.157302618026733,\n",
              " 8.281336069107056,\n",
              " 8.401907444000244,\n",
              " 8.525492191314697,\n",
              " 8.646337270736694,\n",
              " 8.779690027236938,\n",
              " 8.910003662109375,\n",
              " 9.032723665237427,\n",
              " 9.15407943725586,\n",
              " 9.277802467346191,\n",
              " 9.399049997329712,\n",
              " 9.522886037826538,\n",
              " 9.647775173187256,\n",
              " 9.771286249160767,\n",
              " 9.8960599899292,\n",
              " 10.0235755443573,\n",
              " 10.145491600036621,\n",
              " 10.269901514053345,\n",
              " 10.39094853401184,\n",
              " 10.515791416168213,\n",
              " 10.636217832565308,\n",
              " 10.762038469314575,\n",
              " 10.882012128829956,\n",
              " 11.01523470878601,\n",
              " 11.139674425125122,\n",
              " 11.263619422912598]"
            ]
          },
          "metadata": {
            "tags": []
          },
          "execution_count": 27
        }
      ]
    },
    {
      "cell_type": "code",
      "metadata": {
        "id": "AbF7gm5wDpQz",
        "colab_type": "code",
        "colab": {}
      },
      "source": [
        ""
      ],
      "execution_count": 0,
      "outputs": []
    }
  ]
}