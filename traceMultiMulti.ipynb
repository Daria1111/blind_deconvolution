{
  "nbformat": 4,
  "nbformat_minor": 0,
  "metadata": {
    "colab": {
      "name": "traceMultiMulti.ipynb",
      "provenance": [],
      "collapsed_sections": []
    },
    "kernelspec": {
      "name": "python3",
      "display_name": "Python 3"
    },
    "accelerator": "GPU"
  },
  "cells": [
    {
      "cell_type": "code",
      "metadata": {
        "id": "oYi61mzWGBmI",
        "colab_type": "code",
        "colab": {}
      },
      "source": [
        "from google.colab import files\n",
        "import matplotlib.pyplot as plt\n",
        "from scipy.linalg import circulant\n",
        "import numpy as np\n",
        "import time\n",
        "\n",
        "from google.colab import drive\n",
        "import cvxpy as cvx\n",
        "import imageio"
      ],
      "execution_count": 0,
      "outputs": []
    },
    {
      "cell_type": "code",
      "metadata": {
        "id": "Vee0MVUWGImx",
        "colab_type": "code",
        "outputId": "038c6c72-6639-48fc-eb8a-e78b53f0b328",
        "colab": {
          "base_uri": "https://localhost:8080/",
          "height": 283
        }
      },
      "source": [
        "pic = np.zeros((10,10))\n",
        "pic[2:7,3:9] = 1\n",
        "\n",
        "pic[5:7, 3:9] = 0.5\n",
        "plt.imshow(pic,'gray')"
      ],
      "execution_count": 0,
      "outputs": [
        {
          "output_type": "execute_result",
          "data": {
            "text/plain": [
              "<matplotlib.image.AxesImage at 0x7feae66e1e48>"
            ]
          },
          "metadata": {
            "tags": []
          },
          "execution_count": 2
        },
        {
          "output_type": "display_data",
          "data": {
            "image/png": "[encoded data removed]",
            "text/plain": [
              "<Figure size 432x288 with 1 Axes>"
            ]
          },
          "metadata": {
            "tags": []
          }
        }
      ]
    },
    {
      "cell_type": "code",
      "metadata": {
        "id": "HYWmpEoRGOaN",
        "colab_type": "code",
        "outputId": "ea8aa954-e65b-416b-fda1-fa00527aef27",
        "colab": {
          "base_uri": "https://localhost:8080/",
          "height": 283
        }
      },
      "source": [
        "\n",
        "pic2 = np.zeros((10,10))\n",
        "pic2[3:9,2:7] = 0.5\n",
        "\n",
        "pic2[3:9, 5:7] = 1\n",
        "plt.imshow(pic2,'gray')"
      ],
      "execution_count": 0,
      "outputs": [
        {
          "output_type": "execute_result",
          "data": {
            "text/plain": [
              "<matplotlib.image.AxesImage at 0x7feae61aff60>"
            ]
          },
          "metadata": {
            "tags": []
          },
          "execution_count": 3
        },
        {
          "output_type": "display_data",
          "data": {
            "image/png": "[encoded data removed]",
            "text/plain": [
              "<Figure size 432x288 with 1 Axes>"
            ]
          },
          "metadata": {
            "tags": []
          }
        }
      ]
    },
    {
      "cell_type": "code",
      "metadata": {
        "id": "XbDooSwLdB8z",
        "colab_type": "code",
        "colab": {
          "base_uri": "https://localhost:8080/",
          "height": 212
        },
        "outputId": "54ca6f88-c4a2-4678-d3c5-00c1e209015b"
      },
      "source": [
        "!wget https://raw.githubusercontent.com/yandexdataschool/Practical_DL/35c067adcc1ab364c8803830cdb34d0d50eea37e/week01_backprop/mnist.py -O mnist.py\n"
      ],
      "execution_count": 2,
      "outputs": [
        {
          "output_type": "stream",
          "text": [
            "--2020-04-02 01:14:45--  https://raw.githubusercontent.com/yandexdataschool/Practical_DL/35c067adcc1ab364c8803830cdb34d0d50eea37e/week01_backprop/mnist.py\n",
            "Resolving raw.githubusercontent.com (raw.githubusercontent.com)... 151.101.0.133, 151.101.64.133, 151.101.128.133, ...\n",
            "Connecting to raw.githubusercontent.com (raw.githubusercontent.com)|151.101.0.133|:443... connected.\n",
            "HTTP request sent, awaiting response... 200 OK\n",
            "Length: 2697 (2.6K) [text/plain]\n",
            "Saving to: ‘mnist.py’\n",
            "\n",
            "\rmnist.py              0%[                    ]       0  --.-KB/s               \rmnist.py            100%[===================>]   2.63K  --.-KB/s    in 0s      \n",
            "\n",
            "2020-04-02 01:14:46 (29.6 MB/s) - ‘mnist.py’ saved [2697/2697]\n",
            "\n"
          ],
          "name": "stdout"
        }
      ]
    },
    {
      "cell_type": "code",
      "metadata": {
        "id": "kKmtmHeSdPrS",
        "colab_type": "code",
        "colab": {}
      },
      "source": [
        "import mnist"
      ],
      "execution_count": 0,
      "outputs": []
    },
    {
      "cell_type": "code",
      "metadata": {
        "id": "4xl1jHv9dU_B",
        "colab_type": "code",
        "colab": {
          "base_uri": "https://localhost:8080/",
          "height": 88
        },
        "outputId": "1eaa6b51-fee7-4096-e6f8-fd246040da05"
      },
      "source": [
        "X_train, y_train, X_val, y_val, X_test, y_test = mnist.load_dataset(flatten=True)"
      ],
      "execution_count": 4,
      "outputs": [
        {
          "output_type": "stream",
          "text": [
            "Downloading train-images-idx3-ubyte.gz\n",
            "Downloading train-labels-idx1-ubyte.gz\n",
            "Downloading t10k-images-idx3-ubyte.gz\n",
            "Downloading t10k-labels-idx1-ubyte.gz\n"
          ],
          "name": "stdout"
        }
      ]
    },
    {
      "cell_type": "code",
      "metadata": {
        "id": "f3KFdAqydW4s",
        "colab_type": "code",
        "colab": {}
      },
      "source": [
        "pic = X_train[0].reshape([28,28])\n",
        "pic2 = X_train[1].reshape([28,28])"
      ],
      "execution_count": 0,
      "outputs": []
    },
    {
      "cell_type": "code",
      "metadata": {
        "id": "phyepiNhGQYn",
        "colab_type": "code",
        "colab": {}
      },
      "source": [
        "K = 10\n",
        "L = 1500\n",
        "N = 784"
      ],
      "execution_count": 0,
      "outputs": []
    },
    {
      "cell_type": "code",
      "metadata": {
        "id": "MZDB7ZlLGSvP",
        "colab_type": "code",
        "colab": {}
      },
      "source": [
        "\n",
        "m1 = pic.reshape((N,1))\n",
        "m2 = pic2.reshape((N,1))"
      ],
      "execution_count": 0,
      "outputs": []
    },
    {
      "cell_type": "code",
      "metadata": {
        "id": "YWrZc56VGV02",
        "colab_type": "code",
        "colab": {}
      },
      "source": [
        "C = np.random.randn(L,N)\n",
        "\n",
        "\n",
        "h1 = np.random.randn(K,1)\n",
        "h2 = np.random.randn(K,1)\n",
        "h3 = np.random.randn(K,1)\n",
        "h4 = np.random.randn(K,1)\n",
        "\n",
        "B = np.random.randn(L,K)"
      ],
      "execution_count": 0,
      "outputs": []
    },
    {
      "cell_type": "code",
      "metadata": {
        "id": "kf-spkcvGYgh",
        "colab_type": "code",
        "colab": {}
      },
      "source": [
        "A = circulant(C[:,0]) @ B\n",
        "for iter in range(1,N):\n",
        "    elem = circulant(C[:,iter]) @ B\n",
        "    A = np.hstack((A,elem))"
      ],
      "execution_count": 0,
      "outputs": []
    },
    {
      "cell_type": "code",
      "metadata": {
        "id": "EB3Ai_fXGamJ",
        "colab_type": "code",
        "colab": {}
      },
      "source": [
        "\n",
        "X11 = h1 @ m1.reshape((1,N))\n",
        "X12 = h2 @ m1.reshape((1,N))\n",
        "\n",
        "X1 = np.vstack((X11,X12))\n",
        "\n",
        "X21 = h3 @ m2.reshape((1,N))\n",
        "X22 = h4 @ m2.reshape((1,N))\n",
        "\n",
        "X2 = np.vstack((X21,X22))"
      ],
      "execution_count": 0,
      "outputs": []
    },
    {
      "cell_type": "code",
      "metadata": {
        "id": "qZ3MKmEzGcqS",
        "colab_type": "code",
        "colab": {}
      },
      "source": [
        "X = X1 + X2"
      ],
      "execution_count": 0,
      "outputs": []
    },
    {
      "cell_type": "code",
      "metadata": {
        "id": "Swa3PFuEGenB",
        "colab_type": "code",
        "colab": {}
      },
      "source": [
        "a, b = A.shape\n",
        "A0 = np.zeros((a,b))\n",
        "A1 = np.hstack((A,A0))\n",
        "A2 = np.hstack((A0,A))\n",
        "A = np.vstack((A1,A2))"
      ],
      "execution_count": 0,
      "outputs": []
    },
    {
      "cell_type": "code",
      "metadata": {
        "id": "nD3PC2rJGghG",
        "colab_type": "code",
        "colab": {}
      },
      "source": [
        "\n",
        "y =  A @ cvx.vec(X)"
      ],
      "execution_count": 0,
      "outputs": []
    },
    {
      "cell_type": "code",
      "metadata": {
        "id": "B9l_HU2cGiZT",
        "colab_type": "code",
        "outputId": "7c9f3711-9ce3-4aa8-9a34-a79be285be44",
        "colab": {
          "base_uri": "https://localhost:8080/",
          "height": 35
        }
      },
      "source": [
        "start = time.time()\n",
        "W1 = cvx.Variable((2*K,2*K), symmetric=True)\n",
        "W2 = cvx.Variable((N,N),  symmetric=True)\n",
        "Z = cvx.Variable((2*K,N))\n",
        "\n",
        "constraints = [cvx.bmat([[W1,Z],[Z.T,W2]]) >> 0,\n",
        "               y == A @ cvx.vec(Z)]\n",
        "obj = cvx.Minimize(1/2 * (cvx.trace(W1) + cvx.trace(W2)))\n",
        "problem = cvx.Problem(obj, constraints)\n",
        "problem.solve()\n",
        "print(start - time.time())"
      ],
      "execution_count": 48,
      "outputs": [
        {
          "output_type": "stream",
          "text": [
            "-366.7073814868927\n"
          ],
          "name": "stdout"
        }
      ]
    },
    {
      "cell_type": "code",
      "metadata": {
        "id": "I3vn3CO9Gv6G",
        "colab_type": "code",
        "colab": {}
      },
      "source": [
        "Xk = Z.value"
      ],
      "execution_count": 0,
      "outputs": []
    },
    {
      "cell_type": "code",
      "metadata": {
        "id": "8IRv0EP-Gyh3",
        "colab_type": "code",
        "colab": {}
      },
      "source": [
        "u, s, v = np.linalg.svd(Xk)"
      ],
      "execution_count": 0,
      "outputs": []
    },
    {
      "cell_type": "code",
      "metadata": {
        "id": "_zIRl7zkG0hK",
        "colab_type": "code",
        "outputId": "66cc6277-7231-41a4-bbae-141f84b35ffa",
        "colab": {
          "base_uri": "https://localhost:8080/",
          "height": 106
        }
      },
      "source": [
        "s"
      ],
      "execution_count": 51,
      "outputs": [
        {
          "output_type": "execute_result",
          "data": {
            "text/plain": [
              "array([4.75566282e+01, 2.59312252e+01, 1.19860328e+00, 1.07720549e+00,\n",
              "       8.80097735e-01, 8.12512011e-01, 6.62237315e-01, 6.15970050e-01,\n",
              "       5.94053137e-01, 4.92395669e-01, 4.49769425e-01, 4.14922267e-01,\n",
              "       3.28988920e-01, 2.35380279e-01, 1.91801175e-01, 7.72707046e-02,\n",
              "       6.46767430e-02, 4.84985751e-03, 4.55070105e-03, 4.51494397e-03])"
            ]
          },
          "metadata": {
            "tags": []
          },
          "execution_count": 51
        }
      ]
    },
    {
      "cell_type": "code",
      "metadata": {
        "id": "1Ww6IVeSG1Pa",
        "colab_type": "code",
        "outputId": "f3e9903f-8bea-4abe-dbe6-6cff05a6279b",
        "colab": {
          "base_uri": "https://localhost:8080/",
          "height": 283
        }
      },
      "source": [
        "result = (v[0,:]-0.7*v[1,:]).reshape((28,28))\n",
        "plt.imshow(result,'gray')"
      ],
      "execution_count": 58,
      "outputs": [
        {
          "output_type": "execute_result",
          "data": {
            "text/plain": [
              "<matplotlib.image.AxesImage at 0x7ffa12ca8940>"
            ]
          },
          "metadata": {
            "tags": []
          },
          "execution_count": 58
        },
        {
          "output_type": "display_data",
          "data": {
            "image/png": "[encoded data removed]",
            "text/plain": [
              "<Figure size 432x288 with 1 Axes>"
            ]
          },
          "metadata": {
            "tags": []
          }
        }
      ]
    },
    {
      "cell_type": "code",
      "metadata": {
        "id": "LGqOjubietIc",
        "colab_type": "code",
        "colab": {
          "base_uri": "https://localhost:8080/",
          "height": 283
        },
        "outputId": "2ed17cad-2f59-4a2e-8787-88dca6016829"
      },
      "source": [
        "result = (v[1,:]+2*v[0,:]).reshape((28,28))\n",
        "plt.imshow(result,'gray')"
      ],
      "execution_count": 61,
      "outputs": [
        {
          "output_type": "execute_result",
          "data": {
            "text/plain": [
              "<matplotlib.image.AxesImage at 0x7ffa12b49e80>"
            ]
          },
          "metadata": {
            "tags": []
          },
          "execution_count": 61
        },
        {
          "output_type": "display_data",
          "data": {
            "image/png": "[encoded data removed]",
            "text/plain": [
              "<Figure size 432x288 with 1 Axes>"
            ]
          },
          "metadata": {
            "tags": []
          }
        }
      ]
    },
    {
      "cell_type": "code",
      "metadata": {
        "id": "sTto_lyHwQTQ",
        "colab_type": "code",
        "outputId": "9ed32bdb-f441-4aa5-f053-ca57fd2dde92",
        "colab": {
          "base_uri": "https://localhost:8080/",
          "height": 283
        }
      },
      "source": [
        "plt.plot(np.vstack((h3,h4)))"
      ],
      "execution_count": 64,
      "outputs": [
        {
          "output_type": "execute_result",
          "data": {
            "text/plain": [
              "[<matplotlib.lines.Line2D at 0x7ffa0f748dd8>]"
            ]
          },
          "metadata": {
            "tags": []
          },
          "execution_count": 64
        },
        {
          "output_type": "display_data",
          "data": {
            "image/png": "[encoded data removed]",
            "text/plain": [
              "<Figure size 432x288 with 1 Axes>"
            ]
          },
          "metadata": {
            "tags": []
          }
        }
      ]
    },
    {
      "cell_type": "code",
      "metadata": {
        "id": "-GDHBm6nxdVt",
        "colab_type": "code",
        "outputId": "8045b3f3-9d84-4ead-e48f-3979609212d2",
        "colab": {
          "base_uri": "https://localhost:8080/",
          "height": 283
        }
      },
      "source": [
        "plt.plot(u[:,1]+2*u[:,0])"
      ],
      "execution_count": 65,
      "outputs": [
        {
          "output_type": "execute_result",
          "data": {
            "text/plain": [
              "[<matplotlib.lines.Line2D at 0x7ffa12c67400>]"
            ]
          },
          "metadata": {
            "tags": []
          },
          "execution_count": 65
        },
        {
          "output_type": "display_data",
          "data": {
            "image/png": "[encoded data removed]",
            "text/plain": [
              "<Figure size 432x288 with 1 Axes>"
            ]
          },
          "metadata": {
            "tags": []
          }
        }
      ]
    },
    {
      "cell_type": "code",
      "metadata": {
        "id": "_8a-fRaCxv0n",
        "colab_type": "code",
        "colab": {}
      },
      "source": [
        "y = A @ X.reshape((2000,1))"
      ],
      "execution_count": 0,
      "outputs": []
    },
    {
      "cell_type": "code",
      "metadata": {
        "id": "BAMxLlTAzE37",
        "colab_type": "code",
        "outputId": "73238035-0c66-4794-8aad-950931ca0c03",
        "colab": {
          "base_uri": "https://localhost:8080/"
        }
      },
      "source": [
        "np.linalg.norm(y - A @ Xk.reshape((2000,1)))"
      ],
      "execution_count": 0,
      "outputs": [
        {
          "output_type": "execute_result",
          "data": {
            "text/plain": [
              "7.78561607647442"
            ]
          },
          "metadata": {
            "tags": []
          },
          "execution_count": 85
        }
      ]
    },
    {
      "cell_type": "code",
      "metadata": {
        "id": "frHK-9k-zIJW",
        "colab_type": "code",
        "colab": {
          "base_uri": "https://localhost:8080/",
          "height": 35
        },
        "outputId": "5a24fa77-49e2-45e7-f2ed-a2cce7fd9ae3"
      },
      "source": [
        "problem.status"
      ],
      "execution_count": 66,
      "outputs": [
        {
          "output_type": "execute_result",
          "data": {
            "text/plain": [
              "'optimal'"
            ]
          },
          "metadata": {
            "tags": []
          },
          "execution_count": 66
        }
      ]
    },
    {
      "cell_type": "code",
      "metadata": {
        "id": "6IwRqjgBpJdx",
        "colab_type": "code",
        "colab": {}
      },
      "source": [
        ""
      ],
      "execution_count": 0,
      "outputs": []
    }
  ]
}