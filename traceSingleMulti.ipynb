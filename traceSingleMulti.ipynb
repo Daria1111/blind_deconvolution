{
  "nbformat": 4,
  "nbformat_minor": 0,
  "metadata": {
    "colab": {
      "name": "traceSingleMulti.ipynb",
      "provenance": []
    },
    "kernelspec": {
      "name": "python3",
      "display_name": "Python 3"
    },
    "accelerator": "GPU"
  },
  "cells": [
    {
      "cell_type": "code",
      "metadata": {
        "id": "FsBrAcFFElDs",
        "colab_type": "code",
        "colab": {}
      },
      "source": [
        "from google.colab import files\n",
        "import matplotlib.pyplot as plt\n",
        "from scipy.linalg import circulant\n",
        "import numpy as np\n",
        "import time\n",
        "\n",
        "from google.colab import drive\n",
        "import cvxpy as cvx\n",
        "import imageio"
      ],
      "execution_count": 0,
      "outputs": []
    },
    {
      "cell_type": "code",
      "metadata": {
        "id": "6ZFawV-AQ1e7",
        "colab_type": "code",
        "colab": {
          "base_uri": "https://localhost:8080/",
          "height": 212
        },
        "outputId": "0a804df1-9d8a-4c08-fd94-fd7ea0fdcf6c"
      },
      "source": [
        "!wget https://raw.githubusercontent.com/yandexdataschool/Practical_DL/35c067adcc1ab364c8803830cdb34d0d50eea37e/week01_backprop/mnist.py -O mnist.py"
      ],
      "execution_count": 2,
      "outputs": [
        {
          "output_type": "stream",
          "text": [
            "--2020-04-02 00:21:24--  https://raw.githubusercontent.com/yandexdataschool/Practical_DL/35c067adcc1ab364c8803830cdb34d0d50eea37e/week01_backprop/mnist.py\n",
            "Resolving raw.githubusercontent.com (raw.githubusercontent.com)... 151.101.0.133, 151.101.64.133, 151.101.128.133, ...\n",
            "Connecting to raw.githubusercontent.com (raw.githubusercontent.com)|151.101.0.133|:443... connected.\n",
            "HTTP request sent, awaiting response... 200 OK\n",
            "Length: 2697 (2.6K) [text/plain]\n",
            "Saving to: ‘mnist.py’\n",
            "\n",
            "\rmnist.py              0%[                    ]       0  --.-KB/s               \rmnist.py            100%[===================>]   2.63K  --.-KB/s    in 0s      \n",
            "\n",
            "2020-04-02 00:21:24 (47.3 MB/s) - ‘mnist.py’ saved [2697/2697]\n",
            "\n"
          ],
          "name": "stdout"
        }
      ]
    },
    {
      "cell_type": "code",
      "metadata": {
        "id": "l3lRWKVxQ6jn",
        "colab_type": "code",
        "colab": {}
      },
      "source": [
        "import mnist"
      ],
      "execution_count": 0,
      "outputs": []
    },
    {
      "cell_type": "code",
      "metadata": {
        "id": "2U35LIIoQ-l3",
        "colab_type": "code",
        "colab": {
          "base_uri": "https://localhost:8080/",
          "height": 88
        },
        "outputId": "da3beef9-023f-451d-fb14-52eab304da4d"
      },
      "source": [
        "X_train, y_train, X_val, y_val, X_test, y_test = mnist.load_dataset(flatten=True)"
      ],
      "execution_count": 4,
      "outputs": [
        {
          "output_type": "stream",
          "text": [
            "Downloading train-images-idx3-ubyte.gz\n",
            "Downloading train-labels-idx1-ubyte.gz\n",
            "Downloading t10k-images-idx3-ubyte.gz\n",
            "Downloading t10k-labels-idx1-ubyte.gz\n"
          ],
          "name": "stdout"
        }
      ]
    },
    {
      "cell_type": "code",
      "metadata": {
        "id": "5tylbTOaErZE",
        "colab_type": "code",
        "outputId": "46f63f45-d952-494c-8027-4cb3b0a43b5f",
        "colab": {
          "base_uri": "https://localhost:8080/",
          "height": 283
        }
      },
      "source": [
        "pic = np.zeros((10,10))\n",
        "pic[2:7,3:9] = 1\n",
        "\n",
        "pic[5:7, 3:9] = 0.5\n",
        "plt.imshow(pic,'gray')"
      ],
      "execution_count": 0,
      "outputs": [
        {
          "output_type": "execute_result",
          "data": {
            "text/plain": [
              "<matplotlib.image.AxesImage at 0x7fe3c4b5b978>"
            ]
          },
          "metadata": {
            "tags": []
          },
          "execution_count": 3
        },
        {
          "output_type": "display_data",
          "data": {
            "image/png": "[encoded data removed]",
            "text/plain": [
              "<Figure size 432x288 with 1 Axes>"
            ]
          },
          "metadata": {
            "tags": []
          }
        }
      ]
    },
    {
      "cell_type": "code",
      "metadata": {
        "id": "X88vCEOxVFT9",
        "colab_type": "code",
        "colab": {}
      },
      "source": [
        "pic = X_train[0].reshape([28,28])"
      ],
      "execution_count": 0,
      "outputs": []
    },
    {
      "cell_type": "code",
      "metadata": {
        "id": "fCeBj8I5Ev1H",
        "colab_type": "code",
        "colab": {}
      },
      "source": [
        "K = 10\n",
        "L = 784\n",
        "N = 784"
      ],
      "execution_count": 0,
      "outputs": []
    },
    {
      "cell_type": "code",
      "metadata": {
        "id": "Q9srI9kFEygI",
        "colab_type": "code",
        "colab": {}
      },
      "source": [
        "m1 = pic.reshape((N,1))"
      ],
      "execution_count": 0,
      "outputs": []
    },
    {
      "cell_type": "code",
      "metadata": {
        "id": "dEkVAjcaE4_L",
        "colab_type": "code",
        "colab": {}
      },
      "source": [
        "C = np.random.randn(L,N)\n",
        "\n",
        "\n",
        "h1 = np.random.randn(K,1)\n",
        "h2 = np.random.randn(K,1)\n",
        "\n",
        "B = np.random.randn(L,K)"
      ],
      "execution_count": 0,
      "outputs": []
    },
    {
      "cell_type": "code",
      "metadata": {
        "id": "XNS7IKwoFF1O",
        "colab_type": "code",
        "colab": {}
      },
      "source": [
        "A = circulant(C[:,0]) @ B\n",
        "for iter in range(1,N):\n",
        "    elem = circulant(C[:,iter]) @ B\n",
        "    A = np.hstack((A,elem))"
      ],
      "execution_count": 0,
      "outputs": []
    },
    {
      "cell_type": "code",
      "metadata": {
        "id": "LqWrt7rwFIiF",
        "colab_type": "code",
        "colab": {}
      },
      "source": [
        "X1 = h1 @ m1.reshape((1,N))\n",
        "X2 = h2 @ m1.reshape((1,N))\n",
        "\n",
        "X = np.vstack((X1,X2))"
      ],
      "execution_count": 0,
      "outputs": []
    },
    {
      "cell_type": "code",
      "metadata": {
        "id": "4a7-9psbFKvM",
        "colab_type": "code",
        "colab": {}
      },
      "source": [
        "a, b = A.shape\n",
        "A0 = np.zeros((a,b))\n",
        "A1 = np.hstack((A,A0))\n",
        "A2 = np.hstack((A0,A))\n",
        "A = np.vstack((A1,A2))"
      ],
      "execution_count": 0,
      "outputs": []
    },
    {
      "cell_type": "code",
      "metadata": {
        "id": "7Fou5UG1FPsj",
        "colab_type": "code",
        "colab": {}
      },
      "source": [
        "y =  A @ cvx.vec(X)"
      ],
      "execution_count": 0,
      "outputs": []
    },
    {
      "cell_type": "code",
      "metadata": {
        "id": "4KbXgK9qFR0K",
        "colab_type": "code",
        "outputId": "33a84622-4154-4157-d4b2-3e6dd947c02b",
        "colab": {
          "base_uri": "https://localhost:8080/",
          "height": 35
        }
      },
      "source": [
        "start = time.time()\n",
        "W1 = cvx.Variable((2*K,2*K), symmetric=True)\n",
        "W2 = cvx.Variable((N,N),  symmetric=True)\n",
        "Z = cvx.Variable((2*K,N))\n",
        "\n",
        "constraints = [cvx.bmat([[W1,Z],[Z.T,W2]]) >> 0,\n",
        "               y == A @ cvx.vec(Z)]\n",
        "obj = cvx.Minimize(1/2 * (cvx.trace(W1) + cvx.trace(W2)))\n",
        "problem = cvx.Problem(obj, constraints)\n",
        "problem.solve()\n",
        "print(start - time.time())"
      ],
      "execution_count": 14,
      "outputs": [
        {
          "output_type": "stream",
          "text": [
            "-174.33707642555237\n"
          ],
          "name": "stdout"
        }
      ]
    },
    {
      "cell_type": "code",
      "metadata": {
        "id": "gXeDniTcFgBe",
        "colab_type": "code",
        "colab": {}
      },
      "source": [
        "Xk = Z.value"
      ],
      "execution_count": 0,
      "outputs": []
    },
    {
      "cell_type": "code",
      "metadata": {
        "id": "O1dTeFxkFwxV",
        "colab_type": "code",
        "colab": {}
      },
      "source": [
        "u, s, v = np.linalg.svd(Xk)"
      ],
      "execution_count": 0,
      "outputs": []
    },
    {
      "cell_type": "code",
      "metadata": {
        "id": "ccQw_mxCF09Z",
        "colab_type": "code",
        "outputId": "bd3f38d5-53ff-4355-f037-4243f275b107",
        "colab": {
          "base_uri": "https://localhost:8080/",
          "height": 106
        }
      },
      "source": [
        "s"
      ],
      "execution_count": 17,
      "outputs": [
        {
          "output_type": "execute_result",
          "data": {
            "text/plain": [
              "array([3.92416615e+01, 6.57272675e-01, 5.57971953e-01, 5.20492681e-01,\n",
              "       4.85435917e-01, 4.27856660e-01, 3.76289350e-01, 3.48760490e-01,\n",
              "       2.67864428e-01, 2.36340022e-01, 3.59714906e-02, 3.49776459e-02,\n",
              "       3.30387953e-02, 3.20006396e-02, 3.18712798e-02, 3.11567805e-02,\n",
              "       3.08527954e-02, 2.96098299e-02, 2.85401410e-02, 2.77460171e-02])"
            ]
          },
          "metadata": {
            "tags": []
          },
          "execution_count": 17
        }
      ]
    },
    {
      "cell_type": "code",
      "metadata": {
        "id": "C6MAXgPpF1b4",
        "colab_type": "code",
        "outputId": "cc9e5a3d-2069-49d7-b4b2-41f08226b8ce",
        "colab": {
          "base_uri": "https://localhost:8080/",
          "height": 283
        }
      },
      "source": [
        "result = -v[0,:].reshape((28,28))\n",
        "plt.imshow(result,'gray')"
      ],
      "execution_count": 20,
      "outputs": [
        {
          "output_type": "execute_result",
          "data": {
            "text/plain": [
              "<matplotlib.image.AxesImage at 0x7f9982acbc88>"
            ]
          },
          "metadata": {
            "tags": []
          },
          "execution_count": 20
        },
        {
          "output_type": "display_data",
          "data": {
            "image/png": "[encoded data removed]",
            "text/plain": [
              "<Figure size 432x288 with 1 Axes>"
            ]
          },
          "metadata": {
            "tags": []
          }
        }
      ]
    },
    {
      "cell_type": "code",
      "metadata": {
        "id": "cJhSubCfF5Wl",
        "colab_type": "code",
        "outputId": "0592baa1-81e8-4e0b-8b6d-b2660ca77030",
        "colab": {
          "base_uri": "https://localhost:8080/",
          "height": 283
        }
      },
      "source": [
        "plt.plot(np.vstack((h1,h2)))"
      ],
      "execution_count": 21,
      "outputs": [
        {
          "output_type": "execute_result",
          "data": {
            "text/plain": [
              "[<matplotlib.lines.Line2D at 0x7f9982a34668>]"
            ]
          },
          "metadata": {
            "tags": []
          },
          "execution_count": 21
        },
        {
          "output_type": "display_data",
          "data": {
            "image/png": "[encoded data removed]",
            "text/plain": [
              "<Figure size 432x288 with 1 Axes>"
            ]
          },
          "metadata": {
            "tags": []
          }
        }
      ]
    },
    {
      "cell_type": "code",
      "metadata": {
        "id": "5ZzpcT7WoQoN",
        "colab_type": "code",
        "outputId": "16c1776f-c454-4d48-9c3b-6c78d7ef093b",
        "colab": {
          "base_uri": "https://localhost:8080/",
          "height": 283
        }
      },
      "source": [
        "plt.plot(-u[:,0])"
      ],
      "execution_count": 22,
      "outputs": [
        {
          "output_type": "execute_result",
          "data": {
            "text/plain": [
              "[<matplotlib.lines.Line2D at 0x7f9982ad8160>]"
            ]
          },
          "metadata": {
            "tags": []
          },
          "execution_count": 22
        },
        {
          "output_type": "display_data",
          "data": {
            "image/png": "[encoded data removed]",
            "text/plain": [
              "<Figure size 432x288 with 1 Axes>"
            ]
          },
          "metadata": {
            "tags": []
          }
        }
      ]
    },
    {
      "cell_type": "code",
      "metadata": {
        "id": "DJ38_C6cstht",
        "colab_type": "code",
        "colab": {}
      },
      "source": [
        "y = A @ X.reshape((15680,1))"
      ],
      "execution_count": 0,
      "outputs": []
    },
    {
      "cell_type": "code",
      "metadata": {
        "id": "6cNhzZtAoTr9",
        "colab_type": "code",
        "outputId": "8519cd47-7761-438f-ca03-b0b40c4f8f12",
        "colab": {
          "base_uri": "https://localhost:8080/",
          "height": 35
        }
      },
      "source": [
        "np.linalg.norm(y - A @ Xk.reshape((15680,1)))"
      ],
      "execution_count": 25,
      "outputs": [
        {
          "output_type": "execute_result",
          "data": {
            "text/plain": [
              "5321.040434228663"
            ]
          },
          "metadata": {
            "tags": []
          },
          "execution_count": 25
        }
      ]
    },
    {
      "cell_type": "code",
      "metadata": {
        "id": "FbX1WPE9rjkR",
        "colab_type": "code",
        "colab": {}
      },
      "source": [
        ""
      ],
      "execution_count": 0,
      "outputs": []
    },
    {
      "cell_type": "code",
      "metadata": {
        "id": "cN_SGH0Wr5vS",
        "colab_type": "code",
        "colab": {}
      },
      "source": [
        ""
      ],
      "execution_count": 0,
      "outputs": []
    }
  ]
}